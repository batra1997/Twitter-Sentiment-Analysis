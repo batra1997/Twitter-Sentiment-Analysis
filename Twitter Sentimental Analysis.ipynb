{
 "cells": [
  {
   "cell_type": "code",
   "execution_count": 1,
   "metadata": {},
   "outputs": [
    {
     "name": "stderr",
     "output_type": "stream",
     "text": [
      "C:\\Users\\PRAT\\Anaconda3\\lib\\site-packages\\ipykernel_launcher.py:35: DeprecationWarning: \n",
      ".ix is deprecated. Please use\n",
      ".loc for label based indexing or\n",
      ".iloc for positional indexing\n",
      "\n",
      "See the documentation here:\n",
      "http://pandas.pydata.org/pandas-docs/stable/indexing.html#ix-indexer-is-deprecated\n",
      "C:\\Users\\PRAT\\Anaconda3\\lib\\site-packages\\ipykernel_launcher.py:39: DeprecationWarning: \n",
      ".ix is deprecated. Please use\n",
      ".loc for label based indexing or\n",
      ".iloc for positional indexing\n",
      "\n",
      "See the documentation here:\n",
      "http://pandas.pydata.org/pandas-docs/stable/indexing.html#ix-indexer-is-deprecated\n",
      "C:\\Users\\PRAT\\Anaconda3\\lib\\site-packages\\ipykernel_launcher.py:46: DeprecationWarning: \n",
      ".ix is deprecated. Please use\n",
      ".loc for label based indexing or\n",
      ".iloc for positional indexing\n",
      "\n",
      "See the documentation here:\n",
      "http://pandas.pydata.org/pandas-docs/stable/indexing.html#ix-indexer-is-deprecated\n",
      "C:\\Users\\PRAT\\Anaconda3\\lib\\site-packages\\ipykernel_launcher.py:51: DeprecationWarning: \n",
      ".ix is deprecated. Please use\n",
      ".loc for label based indexing or\n",
      ".iloc for positional indexing\n",
      "\n",
      "See the documentation here:\n",
      "http://pandas.pydata.org/pandas-docs/stable/indexing.html#ix-indexer-is-deprecated\n"
     ]
    }
   ],
   "source": [
    "import pandas as pd\n",
    "import numpy as np\n",
    "import re\n",
    "import sys\n",
    "from sklearn.model_selection import train_test_split\n",
    "from nltk.corpus import stopwords\n",
    "from sklearn.feature_extraction.text import TfidfVectorizer\n",
    "from sklearn.naive_bayes import GaussianNB\n",
    "from sklearn.metrics import classification_report,accuracy_score,confusion_matrix\n",
    "\n",
    "# importing training dataset:\n",
    "train_dataset = pd.read_csv(r\"train_tweets.csv\")\n",
    "\n",
    "# cleaning the tweets of the train_dataset:\n",
    "def clean(each):\n",
    "    \n",
    "    l = ['a','b','c','d','e','f','g','h','i','j','k','l','m','n','o','p','q','r','s','t','u','v','w','x','y','z']\n",
    "    m = [each.upper() for each in l]\n",
    "    w = ''\n",
    "    \n",
    "    for i in range(0,len(each)):\n",
    "        \n",
    "        if each[i] == ' ':\n",
    "            w = w + each[i]\n",
    "            \n",
    "        if each[i] == '#':\n",
    "            w = w + \" \"\n",
    "            \n",
    "        if each[i] in l or each[i] in m:\n",
    "            w = w + each[i]\n",
    "            \n",
    "    return ' '.join(w.split())\n",
    "\n",
    "for i in range(len(train_dataset['tweet'])):\n",
    "    unclean_tweet = str(train_dataset.ix[i, 'tweet'])\n",
    "    unclean_tweet = unclean_tweet.strip()\n",
    "    clean_tweet = clean(unclean_tweet)\n",
    "    \n",
    "    train_dataset.ix[i, 'tweet'] = clean_tweet\n",
    "    \n",
    "# importing the test dataset for cleaning it \n",
    "test_dataset = pd.read_csv(r'test_tweets.csv')\n",
    "\n",
    "# cleaning the tweets of the test_dataset:\n",
    "for i in range(len(test_dataset['tweet'])):\n",
    "    unclean_tweet = str(test_dataset.ix[i, 'tweet'])\n",
    "    unclean_tweet = unclean_tweet.strip()\n",
    "    \n",
    "    clean_tweet = clean(unclean_tweet)\n",
    "    \n",
    "    test_dataset.ix[i, 'tweet'] = clean_tweet\n",
    "    \n",
    "# corpus list to have all the training tweets\n",
    "corpus = list(train_dataset['tweet'])\n",
    "\n",
    "vectorizer = TfidfVectorizer(stop_words=stopwords.words('english'), max_features=3000)\n",
    "\n",
    "X = vectorizer.fit_transform(corpus).toarray()   # tweets vectorized\n",
    "y = train_dataset['label']                       # label attached\n",
    "\n",
    "classifier_naive = GaussianNB()\n",
    "classifier_naive.fit(X,y)\n",
    "\n",
    "# to predict for test_dataset's tweets columns ,all tweets\n",
    "to_predict = list(test_dataset['tweet'])\n",
    "\n",
    "transformed_to_predict_tweets = vectorizer.transform(to_predict).toarray()\n",
    "\n",
    "label_predicted = classifier_naive.predict(transformed_to_predict_tweets)\n",
    "\n",
    "test_dataset['label'] = label_predicted\n",
    "\n",
    "test_dataset.to_csv(r\"final_predictions.csv\", index=False)"
   ]
  },
  {
   "cell_type": "code",
   "execution_count": 9,
   "metadata": {},
   "outputs": [],
   "source": [
    "X = vectorizer.fit_transform(corpus).toarray()   # tweets vectorized\n",
    "y = train_dataset['label']                       # label attached"
   ]
  },
  {
   "cell_type": "code",
   "execution_count": 10,
   "metadata": {},
   "outputs": [],
   "source": [
    "X_train, X_test, y_train, y_test = train_test_split(X, y, test_size=0.25, random_state=101)"
   ]
  },
  {
   "cell_type": "code",
   "execution_count": 11,
   "metadata": {},
   "outputs": [
    {
     "data": {
      "text/plain": [
       "GaussianNB(priors=None)"
      ]
     },
     "execution_count": 11,
     "metadata": {},
     "output_type": "execute_result"
    }
   ],
   "source": [
    "classifier_naive.fit(X_train,y_train)"
   ]
  },
  {
   "cell_type": "code",
   "execution_count": 12,
   "metadata": {},
   "outputs": [
    {
     "name": "stdout",
     "output_type": "stream",
     "text": [
      "             precision    recall  f1-score   support\n",
      "\n",
      "          0       0.98      0.72      0.83      7453\n",
      "          1       0.17      0.78      0.28       538\n",
      "\n",
      "avg / total       0.92      0.72      0.79      7991\n",
      "\n"
     ]
    }
   ],
   "source": [
    "print(classification_report(y_test,classifier_naive.predict(X_test)))"
   ]
  },
  {
   "cell_type": "code",
   "execution_count": 43,
   "metadata": {},
   "outputs": [
    {
     "name": "stdout",
     "output_type": "stream",
     "text": [
      "0.6979101489175322\n"
     ]
    }
   ],
   "source": [
    "print(accuracy_score(y_test,classifier_naive.predict(X_test)))"
   ]
  },
  {
   "cell_type": "code",
   "execution_count": 13,
   "metadata": {},
   "outputs": [],
   "source": [
    "from sklearn.metrics import classification_report,accuracy_score,confusion_matrix"
   ]
  },
  {
   "cell_type": "code",
   "execution_count": 14,
   "metadata": {},
   "outputs": [
    {
     "name": "stdout",
     "output_type": "stream",
     "text": [
      "[[5369 2084]\n",
      " [ 119  419]]\n"
     ]
    }
   ],
   "source": [
    "print(confusion_matrix(y_test,classifier_naive.predict(X_test)))"
   ]
  },
  {
   "cell_type": "code",
   "execution_count": null,
   "metadata": {},
   "outputs": [],
   "source": [
    "#7991 = 5369 + 2084 + 119 + 419 total predictions were made by the classifier\n",
    "#2503 times 1 was predicted and 5488 times 0 was predicted\n",
    "#5369 are labelled 0 and are predicted as 0\n",
    "#419 are labelled 1 and predicted as 1\n",
    "#2084 are labelled as 0 and predicted 1\n",
    "#119 are labelled as 1 but predicted 0"
   ]
  },
  {
   "cell_type": "code",
   "execution_count": 16,
   "metadata": {},
   "outputs": [],
   "source": [
    "import seaborn as sns"
   ]
  },
  {
   "cell_type": "code",
   "execution_count": 18,
   "metadata": {},
   "outputs": [],
   "source": [
    "final_dataset = pd.read_csv(r\"final_predictions.csv\")"
   ]
  },
  {
   "cell_type": "code",
   "execution_count": 20,
   "metadata": {},
   "outputs": [
    {
     "data": {
      "text/html": [
       "<div>\n",
       "<style scoped>\n",
       "    .dataframe tbody tr th:only-of-type {\n",
       "        vertical-align: middle;\n",
       "    }\n",
       "\n",
       "    .dataframe tbody tr th {\n",
       "        vertical-align: top;\n",
       "    }\n",
       "\n",
       "    .dataframe thead th {\n",
       "        text-align: right;\n",
       "    }\n",
       "</style>\n",
       "<table border=\"1\" class=\"dataframe\">\n",
       "  <thead>\n",
       "    <tr style=\"text-align: right;\">\n",
       "      <th></th>\n",
       "      <th>id</th>\n",
       "      <th>tweet</th>\n",
       "      <th>label</th>\n",
       "    </tr>\n",
       "  </thead>\n",
       "  <tbody>\n",
       "    <tr>\n",
       "      <th>0</th>\n",
       "      <td>31963</td>\n",
       "      <td>studiolife aislife requires passion dedication...</td>\n",
       "      <td>0</td>\n",
       "    </tr>\n",
       "    <tr>\n",
       "      <th>1</th>\n",
       "      <td>31964</td>\n",
       "      <td>user white supremacists want everyone to see t...</td>\n",
       "      <td>0</td>\n",
       "    </tr>\n",
       "    <tr>\n",
       "      <th>2</th>\n",
       "      <td>31965</td>\n",
       "      <td>safe ways to heal your acne altwaystoheal heal...</td>\n",
       "      <td>0</td>\n",
       "    </tr>\n",
       "    <tr>\n",
       "      <th>3</th>\n",
       "      <td>31966</td>\n",
       "      <td>is the hp and the cursed child book up for res...</td>\n",
       "      <td>1</td>\n",
       "    </tr>\n",
       "    <tr>\n",
       "      <th>4</th>\n",
       "      <td>31967</td>\n",
       "      <td>rd bihday to my amazing hilarious nephew eli a...</td>\n",
       "      <td>0</td>\n",
       "    </tr>\n",
       "  </tbody>\n",
       "</table>\n",
       "</div>"
      ],
      "text/plain": [
       "      id                                              tweet  label\n",
       "0  31963  studiolife aislife requires passion dedication...      0\n",
       "1  31964  user white supremacists want everyone to see t...      0\n",
       "2  31965  safe ways to heal your acne altwaystoheal heal...      0\n",
       "3  31966  is the hp and the cursed child book up for res...      1\n",
       "4  31967  rd bihday to my amazing hilarious nephew eli a...      0"
      ]
     },
     "execution_count": 20,
     "metadata": {},
     "output_type": "execute_result"
    }
   ],
   "source": [
    "final_dataset.head()"
   ]
  },
  {
   "cell_type": "code",
   "execution_count": 29,
   "metadata": {},
   "outputs": [
    {
     "data": {
      "text/plain": [
       "<matplotlib.axes._subplots.AxesSubplot at 0xa0f8f8de80>"
      ]
     },
     "execution_count": 29,
     "metadata": {},
     "output_type": "execute_result"
    },
    {
     "data": {
      "image/png": "[encoded data removed]",
      "text/plain": [
       "<Figure size 720x720 with 1 Axes>"
      ]
     },
     "metadata": {},
     "output_type": "display_data"
    }
   ],
   "source": [
    "plt.figure(figsize=(10,10))\n",
    "# plt.xlabel(\"Sentiments(1 and 0)\")\n",
    "# plt.ylabel(\"Count of Setiments\")\n",
    "plt.title(\"Twitter Sentimental Analysis\")\n",
    "sns.countplot(data=final_dataset, x=\"label\")"
   ]
  }
 ],
 "metadata": {
  "kernelspec": {
   "display_name": "Python 3",
   "language": "python",
   "name": "python3"
  },
  "language_info": {
   "codemirror_mode": {
    "name": "ipython",
    "version": 3
   },
   "file_extension": ".py",
   "mimetype": "text/x-python",
   "name": "python",
   "nbconvert_exporter": "python",
   "pygments_lexer": "ipython3",
   "version": "3.6.5"
  }
 },
 "nbformat": 4,
 "nbformat_minor": 2
}
